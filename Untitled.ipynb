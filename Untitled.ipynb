{
 "cells": [
  {
   "cell_type": "code",
   "execution_count": 35,
   "id": "accomplished-cloud",
   "metadata": {},
   "outputs": [],
   "source": [
    "import pandas as pd\n",
    "import seaborn as sns\n",
    "df = pd.read_csv('all_tweets_RS2.txt', low_memory=False)\n",
    "#df.dropna(subset=['Locatie']) #8634393\n",
    "#df.columns\n",
    "#df.shape\n",
    "#df.info()\n",
    "#df.describe()"
   ]
  },
  {
   "cell_type": "code",
   "execution_count": 36,
   "id": "minus-smith",
   "metadata": {},
   "outputs": [],
   "source": [
    "RS_tractor = len(df[df['Tweets'].str.contains('tractor|Tractor|tractors|Tractors|tractoren|Tractoren')])\n",
    "RS_trekker = len(df[df['Tweets'].str.contains('trekker|Trekker|trekkers|Trekkers')])"
   ]
  },
  {
   "cell_type": "code",
   "execution_count": 37,
   "id": "yellow-setting",
   "metadata": {},
   "outputs": [
    {
     "data": {
      "text/plain": [
       "18733"
      ]
     },
     "execution_count": 37,
     "metadata": {},
     "output_type": "execute_result"
    }
   ],
   "source": [
    "RS_tractor"
   ]
  },
  {
   "cell_type": "code",
   "execution_count": 38,
   "id": "hollywood-exchange",
   "metadata": {},
   "outputs": [
    {
     "data": {
      "text/plain": [
       "42086"
      ]
     },
     "execution_count": 38,
     "metadata": {},
     "output_type": "execute_result"
    }
   ],
   "source": [
    "RS_trekker"
   ]
  },
  {
   "cell_type": "code",
   "execution_count": 51,
   "id": "disciplinary-palace",
   "metadata": {},
   "outputs": [
    {
     "data": {
      "text/html": [
       "<div>\n",
       "<style scoped>\n",
       "    .dataframe tbody tr th:only-of-type {\n",
       "        vertical-align: middle;\n",
       "    }\n",
       "\n",
       "    .dataframe tbody tr th {\n",
       "        vertical-align: top;\n",
       "    }\n",
       "\n",
       "    .dataframe thead th {\n",
       "        text-align: right;\n",
       "    }\n",
       "</style>\n",
       "<table border=\"1\" class=\"dataframe\">\n",
       "  <thead>\n",
       "    <tr style=\"text-align: right;\">\n",
       "      <th></th>\n",
       "      <th>Tweets</th>\n",
       "      <th>Locatie</th>\n",
       "    </tr>\n",
       "  </thead>\n",
       "  <tbody>\n",
       "    <tr>\n",
       "      <th>count</th>\n",
       "      <td>7323037</td>\n",
       "      <td>6240560</td>\n",
       "    </tr>\n",
       "    <tr>\n",
       "      <th>unique</th>\n",
       "      <td>4985104</td>\n",
       "      <td>49383</td>\n",
       "    </tr>\n",
       "    <tr>\n",
       "      <th>top</th>\n",
       "      <td>rt politie wij zijn dringend op zoek naar ergu...</td>\n",
       "      <td>nederland</td>\n",
       "    </tr>\n",
       "    <tr>\n",
       "      <th>freq</th>\n",
       "      <td>2014</td>\n",
       "      <td>178477</td>\n",
       "    </tr>\n",
       "  </tbody>\n",
       "</table>\n",
       "</div>"
      ],
      "text/plain": [
       "                                                   Tweets    Locatie\n",
       "count                                             7323037    6240560\n",
       "unique                                            4985104      49383\n",
       "top     rt politie wij zijn dringend op zoek naar ergu...  nederland\n",
       "freq                                                 2014     178477"
      ]
     },
     "execution_count": 51,
     "metadata": {},
     "output_type": "execute_result"
    }
   ],
   "source": [
    "df = pd.read_csv('all_tweets_not_RS2.txt', low_memory=False)\n",
    "df.describe()"
   ]
  },
  {
   "cell_type": "code",
   "execution_count": 47,
   "id": "essential-orchestra",
   "metadata": {},
   "outputs": [],
   "source": [
    "#Filter populairste RS plaatsen eruit \n",
    "df = df[~df['Locatie'].str.contains(\"Amsterdam|amsterdam|020|Rotterdam|rotterdam|010|Utrecht|utrecht|Den Haag|den haag\", na=False)]"
   ]
  },
  {
   "cell_type": "code",
   "execution_count": 52,
   "id": "fatty-internet",
   "metadata": {},
   "outputs": [
    {
     "data": {
      "text/html": [
       "<div>\n",
       "<style scoped>\n",
       "    .dataframe tbody tr th:only-of-type {\n",
       "        vertical-align: middle;\n",
       "    }\n",
       "\n",
       "    .dataframe tbody tr th {\n",
       "        vertical-align: top;\n",
       "    }\n",
       "\n",
       "    .dataframe thead th {\n",
       "        text-align: right;\n",
       "    }\n",
       "</style>\n",
       "<table border=\"1\" class=\"dataframe\">\n",
       "  <thead>\n",
       "    <tr style=\"text-align: right;\">\n",
       "      <th></th>\n",
       "      <th>Tweets</th>\n",
       "      <th>Locatie</th>\n",
       "    </tr>\n",
       "  </thead>\n",
       "  <tbody>\n",
       "    <tr>\n",
       "      <th>count</th>\n",
       "      <td>7323037</td>\n",
       "      <td>6240560</td>\n",
       "    </tr>\n",
       "    <tr>\n",
       "      <th>unique</th>\n",
       "      <td>4985104</td>\n",
       "      <td>49383</td>\n",
       "    </tr>\n",
       "    <tr>\n",
       "      <th>top</th>\n",
       "      <td>rt politie wij zijn dringend op zoek naar ergu...</td>\n",
       "      <td>nederland</td>\n",
       "    </tr>\n",
       "    <tr>\n",
       "      <th>freq</th>\n",
       "      <td>2014</td>\n",
       "      <td>178477</td>\n",
       "    </tr>\n",
       "  </tbody>\n",
       "</table>\n",
       "</div>"
      ],
      "text/plain": [
       "                                                   Tweets    Locatie\n",
       "count                                             7323037    6240560\n",
       "unique                                            4985104      49383\n",
       "top     rt politie wij zijn dringend op zoek naar ergu...  nederland\n",
       "freq                                                 2014     178477"
      ]
     },
     "execution_count": 52,
     "metadata": {},
     "output_type": "execute_result"
    }
   ],
   "source": [
    "df.describe()"
   ]
  },
  {
   "cell_type": "code",
   "execution_count": 42,
   "id": "figured-continuity",
   "metadata": {},
   "outputs": [],
   "source": [
    "Not_RS_tractor = len(df[df['Tweets'].str.contains('tractor|Tractor|tractors|Tractors|tractoren|Tractoren')])\n",
    "Not_RS_trekker = len(df[df['Tweets'].str.contains('trekker|Trekker|trekkers|Trekkers')])"
   ]
  },
  {
   "cell_type": "code",
   "execution_count": 43,
   "id": "taken-string",
   "metadata": {},
   "outputs": [
    {
     "data": {
      "text/plain": [
       "14130"
      ]
     },
     "execution_count": 43,
     "metadata": {},
     "output_type": "execute_result"
    }
   ],
   "source": [
    "Not_RS_tractor"
   ]
  },
  {
   "cell_type": "code",
   "execution_count": 53,
   "id": "fewer-highlight",
   "metadata": {},
   "outputs": [
    {
     "data": {
      "text/plain": [
       "37843"
      ]
     },
     "execution_count": 53,
     "metadata": {},
     "output_type": "execute_result"
    }
   ],
   "source": [
    "Not_RS_trekker"
   ]
  },
  {
   "cell_type": "code",
   "execution_count": null,
   "id": "ruled-cardiff",
   "metadata": {},
   "outputs": [],
   "source": [
    "#Contingency table maken"
   ]
  }
 ],
 "metadata": {
  "kernelspec": {
   "display_name": "Python 3",
   "language": "python",
   "name": "python3"
  },
  "language_info": {
   "codemirror_mode": {
    "name": "ipython",
    "version": 3
   },
   "file_extension": ".py",
   "mimetype": "text/x-python",
   "name": "python",
   "nbconvert_exporter": "python",
   "pygments_lexer": "ipython3",
   "version": "3.8.5"
  }
 },
 "nbformat": 4,
 "nbformat_minor": 5
}
