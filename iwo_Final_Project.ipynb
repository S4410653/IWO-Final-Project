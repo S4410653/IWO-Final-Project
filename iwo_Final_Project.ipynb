{
 "cells": [
  {
   "cell_type": "code",
   "execution_count": 31,
   "id": "accomplished-cloud",
   "metadata": {},
   "outputs": [],
   "source": [
    "import pandas as pd\n",
    "import seaborn as sns\n",
    "df = pd.read_csv('all_tweets_RS2.txt', low_memory=False)\n",
    "#df.dropna(subset=['Locatie']) #8634393\n",
    "#df.columns\n",
    "#df.shape\n",
    "#df.info()\n",
    "#df.describe()"
   ]
  },
  {
   "cell_type": "code",
   "execution_count": 32,
   "id": "minus-smith",
   "metadata": {},
   "outputs": [],
   "source": [
    "RS_tractor = len(df[df['Tweets'].str.contains('tractor|Tractor|tractors|Tractors|tractoren|Tractoren')])\n",
    "RS_trekker = len(df[df['Tweets'].str.contains('trekker|Trekker|trekkers|Trekkers')])"
   ]
  },
  {
   "cell_type": "code",
   "execution_count": 33,
   "id": "yellow-setting",
   "metadata": {},
   "outputs": [],
   "source": [
    "#RS_tractor"
   ]
  },
  {
   "cell_type": "code",
   "execution_count": 34,
   "id": "hollywood-exchange",
   "metadata": {},
   "outputs": [],
   "source": [
    "#RS_trekker"
   ]
  },
  {
   "cell_type": "code",
   "execution_count": 35,
   "id": "disciplinary-palace",
   "metadata": {},
   "outputs": [],
   "source": [
    "df = pd.read_csv('all_tweets_not_RS2.txt', low_memory=False)\n",
    "#df.describe()"
   ]
  },
  {
   "cell_type": "code",
   "execution_count": 36,
   "id": "essential-orchestra",
   "metadata": {},
   "outputs": [],
   "source": [
    "#Filter populairste RS plaatsen eruit \n",
    "df = df[~df['Locatie'].str.contains(\"Amsterdam|amsterdam|020|Rotterdam|rotterdam|010|Utrecht|utrecht|Den Haag|den haag\", na=False)]"
   ]
  },
  {
   "cell_type": "code",
   "execution_count": 37,
   "id": "fatty-internet",
   "metadata": {},
   "outputs": [],
   "source": [
    "#df.describe()"
   ]
  },
  {
   "cell_type": "code",
   "execution_count": 38,
   "id": "figured-continuity",
   "metadata": {},
   "outputs": [],
   "source": [
    "Not_RS_tractor = len(df[df['Tweets'].str.contains('tractor|Tractor|tractors|Tractors|tractoren|Tractoren')])\n",
    "Not_RS_trekker = len(df[df['Tweets'].str.contains('trekker|Trekker|trekkers|Trekkers')])"
   ]
  },
  {
   "cell_type": "code",
   "execution_count": 39,
   "id": "taken-string",
   "metadata": {},
   "outputs": [],
   "source": [
    "#Not_RS_tractor"
   ]
  },
  {
   "cell_type": "code",
   "execution_count": 40,
   "id": "fewer-highlight",
   "metadata": {},
   "outputs": [],
   "source": [
    "#Not_RS_trekker"
   ]
  },
  {
   "cell_type": "code",
   "execution_count": 41,
   "id": "ruled-cardiff",
   "metadata": {},
   "outputs": [],
   "source": [
    "#Contingency table maken\n",
    "table = pd.DataFrame({\"Randstad\": [RS_trekker, RS_tractor, RS_trekker + RS_tractor], \n",
    "                        \"Countryside\": [Not_RS_trekker, Not_RS_tractor, Not_RS_trekker + Not_RS_tractor],\n",
    "                         \"Total\":[RS_trekker + Not_RS_trekker, RS_tractor + Not_RS_tractor, RS_tractor + RS_trekker + Not_RS_tractor + Not_RS_trekker ]}, index=[\"Trekker(s)\",\"Tractor(s)(en)\", \"Total\"])\n",
    "\n"
   ]
  },
  {
   "cell_type": "code",
   "execution_count": 42,
   "id": "quick-poland",
   "metadata": {},
   "outputs": [
    {
     "data": {
      "text/html": [
       "<div>\n",
       "<style scoped>\n",
       "    .dataframe tbody tr th:only-of-type {\n",
       "        vertical-align: middle;\n",
       "    }\n",
       "\n",
       "    .dataframe tbody tr th {\n",
       "        vertical-align: top;\n",
       "    }\n",
       "\n",
       "    .dataframe thead th {\n",
       "        text-align: right;\n",
       "    }\n",
       "</style>\n",
       "<table border=\"1\" class=\"dataframe\">\n",
       "  <thead>\n",
       "    <tr style=\"text-align: right;\">\n",
       "      <th></th>\n",
       "      <th>Randstad</th>\n",
       "      <th>Countryside</th>\n",
       "      <th>Total</th>\n",
       "    </tr>\n",
       "  </thead>\n",
       "  <tbody>\n",
       "    <tr>\n",
       "      <th>Trekker(s)</th>\n",
       "      <td>727</td>\n",
       "      <td>338</td>\n",
       "      <td>1065</td>\n",
       "    </tr>\n",
       "    <tr>\n",
       "      <th>Tractor(s)(en)</th>\n",
       "      <td>539</td>\n",
       "      <td>108</td>\n",
       "      <td>647</td>\n",
       "    </tr>\n",
       "    <tr>\n",
       "      <th>Total</th>\n",
       "      <td>1266</td>\n",
       "      <td>446</td>\n",
       "      <td>1712</td>\n",
       "    </tr>\n",
       "  </tbody>\n",
       "</table>\n",
       "</div>"
      ],
      "text/plain": [
       "                Randstad  Countryside  Total\n",
       "Trekker(s)           727          338   1065\n",
       "Tractor(s)(en)       539          108    647\n",
       "Total               1266          446   1712"
      ]
     },
     "execution_count": 42,
     "metadata": {},
     "output_type": "execute_result"
    }
   ],
   "source": [
    "table"
   ]
  }
 ],
 "metadata": {
  "kernelspec": {
   "display_name": "Python 3",
   "language": "python",
   "name": "python3"
  },
  "language_info": {
   "codemirror_mode": {
    "name": "ipython",
    "version": 3
   },
   "file_extension": ".py",
   "mimetype": "text/x-python",
   "name": "python",
   "nbconvert_exporter": "python",
   "pygments_lexer": "ipython3",
   "version": "3.8.5"
  }
 },
 "nbformat": 4,
 "nbformat_minor": 5
}
